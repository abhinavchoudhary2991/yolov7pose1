{
 "cells": [
  {
   "cell_type": "code",
   "execution_count": 2,
   "id": "8408093e",
   "metadata": {},
   "outputs": [],
   "source": [
    "#IF IN COLAB AND YOU WANT TO MOUNT YOUR DRIVE\n",
    "\n",
    "#from google.colab import drive\n",
    "#drive.mount(\"/content/drive\")"
   ]
  },
  {
   "cell_type": "code",
   "execution_count": null,
   "id": "b2c57a5f",
   "metadata": {},
   "outputs": [],
   "source": [
    "#!git clone <url>\n",
    "\n",
    "#!git clone https://github.com/RizwanMunawar/yolov7-pose-estimation.git"
   ]
  },
  {
   "cell_type": "code",
   "execution_count": 3,
   "id": "79acfb5c",
   "metadata": {},
   "outputs": [
    {
     "name": "stdout",
     "output_type": "stream",
     "text": [
      "Requirement already satisfied: matplotlib>=3.2.2 in c:\\python310\\lib\\site-packages (from -r requirements.txt (line 4)) (3.7.0)\n",
      "Requirement already satisfied: numpy>=1.18.5 in c:\\python310\\lib\\site-packages (from -r requirements.txt (line 5)) (1.23.2)\n",
      "Requirement already satisfied: opencv-python>=4.1.1 in c:\\python310\\lib\\site-packages (from -r requirements.txt (line 6)) (4.7.0.68)\n",
      "Requirement already satisfied: Pillow>=7.1.2 in c:\\python310\\lib\\site-packages (from -r requirements.txt (line 7)) (9.4.0)\n",
      "Requirement already satisfied: PyYAML>=5.3.1 in c:\\python310\\lib\\site-packages (from -r requirements.txt (line 8)) (6.0)\n",
      "Requirement already satisfied: requests>=2.23.0 in c:\\python310\\lib\\site-packages (from -r requirements.txt (line 9)) (2.28.1)\n",
      "Requirement already satisfied: scipy>=1.4.1 in c:\\python310\\lib\\site-packages (from -r requirements.txt (line 10)) (1.9.1)\n",
      "Requirement already satisfied: torch!=1.12.0,>=1.7.0 in c:\\python310\\lib\\site-packages (from -r requirements.txt (line 11)) (1.12.1)\n",
      "Requirement already satisfied: torchvision!=0.13.0,>=0.8.1 in c:\\python310\\lib\\site-packages (from -r requirements.txt (line 12)) (0.13.1)\n",
      "Requirement already satisfied: tqdm>=4.41.0 in c:\\python310\\lib\\site-packages (from -r requirements.txt (line 13)) (4.64.1)\n",
      "Requirement already satisfied: protobuf<4.21.3 in c:\\python310\\lib\\site-packages (from -r requirements.txt (line 14)) (3.19.6)\n",
      "Requirement already satisfied: tensorboard>=2.4.1 in c:\\python310\\lib\\site-packages (from -r requirements.txt (line 17)) (2.11.2)\n",
      "Requirement already satisfied: pandas>=1.1.4 in c:\\python310\\lib\\site-packages (from -r requirements.txt (line 21)) (1.4.4)\n",
      "Requirement already satisfied: seaborn>=0.11.0 in c:\\python310\\lib\\site-packages (from -r requirements.txt (line 22)) (0.12.0)\n",
      "Requirement already satisfied: ipython in c:\\python310\\lib\\site-packages (from -r requirements.txt (line 26)) (8.5.0)\n",
      "Requirement already satisfied: psutil in c:\\python310\\lib\\site-packages (from -r requirements.txt (line 27)) (5.9.2)\n",
      "Requirement already satisfied: thop in c:\\python310\\lib\\site-packages (from -r requirements.txt (line 28)) (0.1.1.post2209072238)\n",
      "Requirement already satisfied: cycler>=0.10 in c:\\python310\\lib\\site-packages (from matplotlib>=3.2.2->-r requirements.txt (line 4)) (0.11.0)\n",
      "Requirement already satisfied: packaging>=20.0 in c:\\python310\\lib\\site-packages (from matplotlib>=3.2.2->-r requirements.txt (line 4)) (21.3)\n",
      "Requirement already satisfied: kiwisolver>=1.0.1 in c:\\python310\\lib\\site-packages (from matplotlib>=3.2.2->-r requirements.txt (line 4)) (1.4.4)\n",
      "Requirement already satisfied: fonttools>=4.22.0 in c:\\python310\\lib\\site-packages (from matplotlib>=3.2.2->-r requirements.txt (line 4)) (4.37.1)\n",
      "Requirement already satisfied: python-dateutil>=2.7 in c:\\python310\\lib\\site-packages (from matplotlib>=3.2.2->-r requirements.txt (line 4)) (2.8.2)\n",
      "Requirement already satisfied: contourpy>=1.0.1 in c:\\python310\\lib\\site-packages (from matplotlib>=3.2.2->-r requirements.txt (line 4)) (1.0.7)\n",
      "Requirement already satisfied: pyparsing>=2.3.1 in c:\\python310\\lib\\site-packages (from matplotlib>=3.2.2->-r requirements.txt (line 4)) (3.0.9)\n",
      "Requirement already satisfied: urllib3<1.27,>=1.21.1 in c:\\python310\\lib\\site-packages (from requests>=2.23.0->-r requirements.txt (line 9)) (1.26.12)\n",
      "Requirement already satisfied: certifi>=2017.4.17 in c:\\python310\\lib\\site-packages (from requests>=2.23.0->-r requirements.txt (line 9)) (2022.6.15)\n",
      "Requirement already satisfied: charset-normalizer<3,>=2 in c:\\python310\\lib\\site-packages (from requests>=2.23.0->-r requirements.txt (line 9)) (2.1.1)\n",
      "Requirement already satisfied: idna<4,>=2.5 in c:\\python310\\lib\\site-packages (from requests>=2.23.0->-r requirements.txt (line 9)) (3.3)\n",
      "Requirement already satisfied: typing-extensions in c:\\python310\\lib\\site-packages (from torch!=1.12.0,>=1.7.0->-r requirements.txt (line 11)) (4.3.0)\n",
      "Requirement already satisfied: colorama in c:\\python310\\lib\\site-packages (from tqdm>=4.41.0->-r requirements.txt (line 13)) (0.4.5)\n",
      "Requirement already satisfied: markdown>=2.6.8 in c:\\python310\\lib\\site-packages (from tensorboard>=2.4.1->-r requirements.txt (line 17)) (3.4.1)\n",
      "Requirement already satisfied: tensorboard-data-server<0.7.0,>=0.6.0 in c:\\python310\\lib\\site-packages (from tensorboard>=2.4.1->-r requirements.txt (line 17)) (0.6.1)\n",
      "Requirement already satisfied: werkzeug>=1.0.1 in c:\\python310\\lib\\site-packages (from tensorboard>=2.4.1->-r requirements.txt (line 17)) (2.2.2)\n",
      "Requirement already satisfied: google-auth-oauthlib<0.5,>=0.4.1 in c:\\python310\\lib\\site-packages (from tensorboard>=2.4.1->-r requirements.txt (line 17)) (0.4.6)\n",
      "Requirement already satisfied: absl-py>=0.4 in c:\\python310\\lib\\site-packages (from tensorboard>=2.4.1->-r requirements.txt (line 17)) (1.2.0)\n",
      "Requirement already satisfied: tensorboard-plugin-wit>=1.6.0 in c:\\python310\\lib\\site-packages (from tensorboard>=2.4.1->-r requirements.txt (line 17)) (1.8.1)\n",
      "Requirement already satisfied: grpcio>=1.24.3 in c:\\python310\\lib\\site-packages (from tensorboard>=2.4.1->-r requirements.txt (line 17)) (1.48.1)\n",
      "Requirement already satisfied: wheel>=0.26 in c:\\python310\\lib\\site-packages (from tensorboard>=2.4.1->-r requirements.txt (line 17)) (0.38.4)\n",
      "Requirement already satisfied: google-auth<3,>=1.6.3 in c:\\python310\\lib\\site-packages (from tensorboard>=2.4.1->-r requirements.txt (line 17)) (2.16.1)\n",
      "Requirement already satisfied: setuptools>=41.0.0 in c:\\python310\\lib\\site-packages (from tensorboard>=2.4.1->-r requirements.txt (line 17)) (66.1.1)\n",
      "Requirement already satisfied: pytz>=2020.1 in c:\\python310\\lib\\site-packages (from pandas>=1.1.4->-r requirements.txt (line 21)) (2022.2.1)\n",
      "Requirement already satisfied: pygments>=2.4.0 in c:\\python310\\lib\\site-packages (from ipython->-r requirements.txt (line 26)) (2.13.0)\n",
      "Requirement already satisfied: pickleshare in c:\\python310\\lib\\site-packages (from ipython->-r requirements.txt (line 26)) (0.7.5)\n",
      "Requirement already satisfied: prompt-toolkit<3.1.0,>3.0.1 in c:\\python310\\lib\\site-packages (from ipython->-r requirements.txt (line 26)) (3.0.31)\n",
      "Requirement already satisfied: decorator in c:\\python310\\lib\\site-packages (from ipython->-r requirements.txt (line 26)) (4.4.2)\n",
      "Requirement already satisfied: jedi>=0.16 in c:\\python310\\lib\\site-packages (from ipython->-r requirements.txt (line 26)) (0.18.1)\n",
      "Requirement already satisfied: traitlets>=5 in c:\\python310\\lib\\site-packages (from ipython->-r requirements.txt (line 26)) (5.3.0)\n",
      "Requirement already satisfied: backcall in c:\\python310\\lib\\site-packages (from ipython->-r requirements.txt (line 26)) (0.2.0)\n",
      "Requirement already satisfied: matplotlib-inline in c:\\python310\\lib\\site-packages (from ipython->-r requirements.txt (line 26)) (0.1.6)\n",
      "Requirement already satisfied: stack-data in c:\\python310\\lib\\site-packages (from ipython->-r requirements.txt (line 26)) (0.5.0)\n",
      "Requirement already satisfied: pyasn1-modules>=0.2.1 in c:\\python310\\lib\\site-packages (from google-auth<3,>=1.6.3->tensorboard>=2.4.1->-r requirements.txt (line 17)) (0.2.8)\n",
      "Requirement already satisfied: six>=1.9.0 in c:\\python310\\lib\\site-packages (from google-auth<3,>=1.6.3->tensorboard>=2.4.1->-r requirements.txt (line 17)) (1.16.0)\n",
      "Requirement already satisfied: cachetools<6.0,>=2.0.0 in c:\\python310\\lib\\site-packages (from google-auth<3,>=1.6.3->tensorboard>=2.4.1->-r requirements.txt (line 17)) (5.2.0)\n",
      "Requirement already satisfied: rsa<5,>=3.1.4 in c:\\python310\\lib\\site-packages (from google-auth<3,>=1.6.3->tensorboard>=2.4.1->-r requirements.txt (line 17)) (4.9)\n",
      "Requirement already satisfied: requests-oauthlib>=0.7.0 in c:\\python310\\lib\\site-packages (from google-auth-oauthlib<0.5,>=0.4.1->tensorboard>=2.4.1->-r requirements.txt (line 17)) (1.3.1)\n",
      "Requirement already satisfied: parso<0.9.0,>=0.8.0 in c:\\python310\\lib\\site-packages (from jedi>=0.16->ipython->-r requirements.txt (line 26)) (0.8.3)\n",
      "Requirement already satisfied: wcwidth in c:\\python310\\lib\\site-packages (from prompt-toolkit<3.1.0,>3.0.1->ipython->-r requirements.txt (line 26)) (0.2.5)\n",
      "Requirement already satisfied: MarkupSafe>=2.1.1 in c:\\python310\\lib\\site-packages (from werkzeug>=1.0.1->tensorboard>=2.4.1->-r requirements.txt (line 17)) (2.1.1)\n",
      "Requirement already satisfied: asttokens in c:\\python310\\lib\\site-packages (from stack-data->ipython->-r requirements.txt (line 26)) (2.0.8)\n",
      "Requirement already satisfied: executing in c:\\python310\\lib\\site-packages (from stack-data->ipython->-r requirements.txt (line 26)) (1.0.0)\n",
      "Requirement already satisfied: pure-eval in c:\\python310\\lib\\site-packages (from stack-data->ipython->-r requirements.txt (line 26)) (0.2.2)\n",
      "Requirement already satisfied: pyasn1<0.5.0,>=0.4.6 in c:\\python310\\lib\\site-packages (from pyasn1-modules>=0.2.1->google-auth<3,>=1.6.3->tensorboard>=2.4.1->-r requirements.txt (line 17)) (0.4.8)\n",
      "Requirement already satisfied: oauthlib>=3.0.0 in c:\\python310\\lib\\site-packages (from requests-oauthlib>=0.7.0->google-auth-oauthlib<0.5,>=0.4.1->tensorboard>=2.4.1->-r requirements.txt (line 17)) (3.2.0)\n"
     ]
    }
   ],
   "source": [
    "!pip install -r requirements.txt"
   ]
  },
  {
   "cell_type": "code",
   "execution_count": null,
   "id": "84211710",
   "metadata": {},
   "outputs": [],
   "source": [
    "\n",
    "!curl -L https://github.com/WongKinYiu/yolov7/releases/download/v0.1/yolov7-w6-pose.pt -o yolov7-w6-pose.pt"
   ]
  },
  {
   "cell_type": "code",
   "execution_count": null,
   "id": "c66751ba",
   "metadata": {},
   "outputs": [],
   "source": [
    "#!python pose-estimate.py --source \"your custom video.mp4 path\" --device 0"
   ]
  },
  {
   "cell_type": "code",
   "execution_count": 4,
   "id": "475c6dd9",
   "metadata": {},
   "outputs": [
    {
     "name": "stdout",
     "output_type": "stream",
     "text": [
      "Optimizer stripped from yolov7-w6-pose.pt, 321.8MB\n",
      "Fusing layers... \n",
      "Frame 0 Processing\n"
     ]
    },
    {
     "name": "stderr",
     "output_type": "stream",
     "text": [
      "C:\\python310\\lib\\site-packages\\torch\\functional.py:478: UserWarning: torch.meshgrid: in an upcoming release, it will be required to pass the indexing argument. (Triggered internally at  ..\\aten\\src\\ATen\\native\\TensorShape.cpp:2895.)\n",
      "  return _VF.meshgrid(tensors, **kwargs)  # type: ignore[attr-defined]\n",
      "Traceback (most recent call last):\n",
      "  File \"C:\\Users\\parin\\Desktop\\yolov7-pose-estimation-main\\keypoint.py\", line 126, in <module>\n",
      "    main(opt)\n",
      "  File \"C:\\Users\\parin\\Desktop\\yolov7-pose-estimation-main\\keypoint.py\", line 121, in main\n",
      "    run(**vars(opt))\n",
      "  File \"C:\\python310\\lib\\site-packages\\torch\\autograd\\grad_mode.py\", line 27, in decorate_context\n",
      "    return func(*args, **kwargs)\n",
      "  File \"C:\\Users\\parin\\Desktop\\yolov7-pose-estimation-main\\keypoint.py\", line 72, in run\n",
      "    output_data, _ = model(image)\n",
      "  File \"C:\\python310\\lib\\site-packages\\torch\\nn\\modules\\module.py\", line 1130, in _call_impl\n",
      "    return forward_call(*input, **kwargs)\n",
      "  File \"C:\\Users\\parin\\Desktop\\yolov7-pose-estimation-main\\models\\yolo.py\", line 514, in forward\n",
      "    return self.forward_once(x, profile)  # single-scale inference, train\n",
      "  File \"C:\\Users\\parin\\Desktop\\yolov7-pose-estimation-main\\models\\yolo.py\", line 540, in forward_once\n",
      "    x = m(x)  # run\n",
      "  File \"C:\\python310\\lib\\site-packages\\torch\\nn\\modules\\module.py\", line 1130, in _call_impl\n",
      "    return forward_call(*input, **kwargs)\n",
      "  File \"C:\\Users\\parin\\Desktop\\yolov7-pose-estimation-main\\models\\common.py\", line 62, in forward\n",
      "    return torch.cat(x, self.d)\n",
      "RuntimeError: Sizes of tensors must match except in dimension 1. Expected size 23 but got size 24 for tensor number 1 in the list.\n"
     ]
    }
   ],
   "source": [
    "#FOR KEYPOINTS-\n",
    "#1. Load Video of not more than 12 seconds inside input folder. \n",
    "#2. Run this command\n",
    "\n",
    "\n",
    "!python keypoint.py"
   ]
  }
 ],
 "metadata": {
  "kernelspec": {
   "display_name": "Python 3 (ipykernel)",
   "language": "python",
   "name": "python3"
  },
  "language_info": {
   "codemirror_mode": {
    "name": "ipython",
    "version": 3
   },
   "file_extension": ".py",
   "mimetype": "text/x-python",
   "name": "python",
   "nbconvert_exporter": "python",
   "pygments_lexer": "ipython3",
   "version": "3.10.7"
  }
 },
 "nbformat": 4,
 "nbformat_minor": 5
}
